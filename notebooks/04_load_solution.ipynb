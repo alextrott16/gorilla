{
 "cells": [
  {
   "cell_type": "code",
   "execution_count": 3,
   "metadata": {},
   "outputs": [],
   "source": [
    "import json"
   ]
  },
  {
   "cell_type": "code",
   "execution_count": 4,
   "metadata": {},
   "outputs": [],
   "source": [
    "user_query = \"What is the area of a triangle with base of 10 units and height of 5 units?\"\n",
    "test_category = \"simple\""
   ]
  },
  {
   "cell_type": "code",
   "execution_count": 6,
   "metadata": {},
   "outputs": [],
   "source": [
    "test_category = test_category.replace(\"executable_\", \"\")\n",
    "solutions_path = f\"./data/possible_answer/gorilla_openfunctions_v1_test_{test_category}.json\"\n",
    "questions_path = f\"./data/gorilla_openfunctions_v1_test_{test_category}.json\"\n",
    "\n",
    "# solutions_path = f\"../berkeley-function-call-leaderboard/data/possible_answer/gorilla_openfunctions_v1_test_{test_category}.json\"\n",
    "# questions_path = f\"../berkeley-function-call-leaderboard/data/gorilla_openfunctions_v1_test_{test_category}.json\""
   ]
  },
  {
   "cell_type": "code",
   "execution_count": 8,
   "metadata": {},
   "outputs": [],
   "source": [
    "# Find the index where the question matches the user query\n",
    "question_idx = 0\n",
    "with open(questions_path, \"r\") as f:\n",
    "    for line in f:\n",
    "        question = json.loads(line)[\"question\"]\n",
    "        if question == user_query:\n",
    "            break\n",
    "        question_idx += 1"
   ]
  },
  {
   "cell_type": "code",
   "execution_count": 12,
   "metadata": {},
   "outputs": [],
   "source": [
    "\n",
    "# Get solution located at question_idx\n",
    "solution_idx = 0\n",
    "solution = {}\n",
    "with open(solutions_path, \"r\") as f:\n",
    "    for line in f:\n",
    "        if solution_idx == question_idx:\n",
    "            solution = json.loads(line)\n",
    "            break\n",
    "        solution_idx += 1"
   ]
  },
  {
   "cell_type": "code",
   "execution_count": 13,
   "metadata": {},
   "outputs": [
    {
     "data": {
      "text/plain": [
       "{'calculate_triangle_area': {'base': [10], 'height': [5]}}"
      ]
     },
     "execution_count": 13,
     "metadata": {},
     "output_type": "execute_result"
    }
   ],
   "source": [
    "solution"
   ]
  },
  {
   "cell_type": "code",
   "execution_count": null,
   "metadata": {},
   "outputs": [],
   "source": []
  }
 ],
 "metadata": {
  "kernelspec": {
   "display_name": "gorilla",
   "language": "python",
   "name": "python3"
  },
  "language_info": {
   "codemirror_mode": {
    "name": "ipython",
    "version": 3
   },
   "file_extension": ".py",
   "mimetype": "text/x-python",
   "name": "python",
   "nbconvert_exporter": "python",
   "pygments_lexer": "ipython3",
   "version": "3.10.14"
  }
 },
 "nbformat": 4,
 "nbformat_minor": 2
}
