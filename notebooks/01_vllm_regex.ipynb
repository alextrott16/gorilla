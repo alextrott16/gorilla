{
 "cells": [
  {
   "cell_type": "markdown",
   "metadata": {},
   "source": [
    "# Setup"
   ]
  },
  {
   "cell_type": "code",
   "execution_count": 27,
   "metadata": {},
   "outputs": [],
   "source": [
    "import json\n",
    "from functools import reduce\n",
    "\n",
    "from openai import OpenAI\n",
    "from outlines.fsm.json_schema import build_regex_from_schema, get_schema_from_signature\n",
    "from pydantic import BaseModel"
   ]
  },
  {
   "cell_type": "code",
   "execution_count": 3,
   "metadata": {},
   "outputs": [
    {
     "data": {
      "text/plain": [
       "<openai.OpenAI at 0x7fb7e018a9b0>"
      ]
     },
     "execution_count": 3,
     "metadata": {},
     "output_type": "execute_result"
    }
   ],
   "source": [
    "client = OpenAI(base_url=\"http://localhost:8000/v1\", api_key=\"-\")\n",
    "client"
   ]
  },
  {
   "cell_type": "markdown",
   "metadata": {},
   "source": [
    "# Tool To Regex"
   ]
  },
  {
   "cell_type": "code",
   "execution_count": 11,
   "metadata": {},
   "outputs": [],
   "source": [
    "def regex_or(pattern1, pattern2):\n",
    "    return f\"(?:{pattern1}|{pattern2})\""
   ]
  },
  {
   "cell_type": "code",
   "execution_count": 13,
   "metadata": {},
   "outputs": [],
   "source": [
    "def sometime_guide(regex_pattern, start_guided_pattern=\"<tool_call>\", end_guided_pattern=\"</tool_call>\"):\n",
    "    \"\"\"\n",
    "    Only do guided generation sometimes, in between start_word and end_word.\n",
    "    \"\"\"\n",
    "    return f\".*?(?={start_guided_pattern}){start_guided_pattern}({regex_pattern}).*?(?={end_guided_pattern}){end_guided_pattern}.*\""
   ]
  },
  {
   "cell_type": "code",
   "execution_count": 37,
   "metadata": {},
   "outputs": [],
   "source": [
    "def tool_to_regex(tool, whitespace_pattern=None, test_category=None):\n",
    "\n",
    "    if isinstance(tool, list):\n",
    "        values = [tool_to_regex(_tool, whitespace_pattern=whitespace_pattern, test_category=test_category) for _tool in tool]\n",
    "        regex_strs = [v[0] for v in values]\n",
    "        regex_str = reduce(regex_or, regex_strs)\n",
    "        schema_strs = [v[1] for v in values]\n",
    "        schema_str = \"\\n\".join(schema_strs)\n",
    "    elif isinstance(tool, dict) and list(tool.keys()) == ['name', 'description', 'parameters']:\n",
    "        schema_str = bfcl_function_to_schema(tool, test_category)\n",
    "        schema_regex = build_regex_from_schema(schema_str.strip(), whitespace_pattern)\n",
    "        regex_str = f'{{\"tool_name\": \"{tool[\"name\"]}\", \"tool_arguments\": {schema_regex}}}'\n",
    "    elif isinstance(tool, type(BaseModel)):\n",
    "        schema_json = tool.model_json_schema()\n",
    "        schema_str = json.dumps(schema_json)\n",
    "        schema_regex = build_regex_from_schema(schema_str.strip(), whitespace_pattern)\n",
    "        regex_str = f'{{\"tool_name\": \"{schema_json[\"title\"]}\", \"tool_arguments\": {schema_regex}}}'\n",
    "    elif callable(tool):\n",
    "        schema_json = get_schema_from_signature(tool)\n",
    "        schema_str = json.dumps(schema_json)\n",
    "        schema_regex = build_regex_from_schema(schema_str.strip(), whitespace_pattern)\n",
    "        regex_str = f'{{\"tool_name\": \"{tool.__name__}\", \"tool_arguments\": {schema_regex}}}'\n",
    "    elif isinstance(tool, str):\n",
    "        schema_str = tool\n",
    "        schema_regex = build_regex_from_schema(schema_str.strip(), whitespace_pattern)\n",
    "        regex_str = f'{{\"tool_name\": \"{json.loads(schema_str)[\"title\"]}\", \"tool_arguments\": {schema_regex}}}'\n",
    "\n",
    "    return regex_str, schema_str"
   ]
  },
  {
   "cell_type": "code",
   "execution_count": 38,
   "metadata": {},
   "outputs": [
    {
     "name": "stdout",
     "output_type": "stream",
     "text": [
      "('(?:(?:{\"tool_name\": \"add\", \"tool_arguments\": \\\\{[\\\\n ]*\"a\"[\\\\n ]*:[\\\\n ]*(0|[1-9][0-9]*)[\\\\n ]*,[\\\\n ]*\"b\"[\\\\n ]*:[\\\\n ]*(0|[1-9][0-9]*)[\\\\n ]*\\\\}}|{\"tool_name\": \"User\", \"tool_arguments\": \\\\{[\\\\n ]*\"name\"[\\\\n ]*:[\\\\n ]*\"(?:[^\"\\\\\\\\\\\\x00-\\\\x1f\\\\x7f-\\\\x9f]|\\\\\\\\.)*\"[\\\\n ]*,[\\\\n ]*\"last_name\"[\\\\n ]*:[\\\\n ]*\"(?:[^\"\\\\\\\\\\\\x00-\\\\x1f\\\\x7f-\\\\x9f]|\\\\\\\\.)*\"[\\\\n ]*,[\\\\n ]*\"id\"[\\\\n ]*:[\\\\n ]*(0|[1-9][0-9]*)[\\\\n ]*\\\\}})|{\"tool_name\": \"User\", \"tool_arguments\": \\\\{([\\\\n ]*\"name\"[\\\\n ]*:[\\\\n ]*\"(?:[^\"\\\\\\\\\\\\x00-\\\\x1f\\\\x7f-\\\\x9f]|\\\\\\\\.)*\"([\\\\n ]*,[\\\\n ]*\"last_name\"[\\\\n ]*:[\\\\n ]*\"(?:[^\"\\\\\\\\\\\\x00-\\\\x1f\\\\x7f-\\\\x9f]|\\\\\\\\.)*\")?([\\\\n ]*,[\\\\n ]*\"id\"[\\\\n ]*:[\\\\n ]*(0|[1-9][0-9]*))?|([\\\\n ]*\"name\"[\\\\n ]*:[\\\\n ]*\"(?:[^\"\\\\\\\\\\\\x00-\\\\x1f\\\\x7f-\\\\x9f]|\\\\\\\\.)*\"[\\\\n ]*,)?[\\\\n ]*\"last_name\"[\\\\n ]*:[\\\\n ]*\"(?:[^\"\\\\\\\\\\\\x00-\\\\x1f\\\\x7f-\\\\x9f]|\\\\\\\\.)*\"([\\\\n ]*,[\\\\n ]*\"id\"[\\\\n ]*:[\\\\n ]*(0|[1-9][0-9]*))?|([\\\\n ]*\"name\"[\\\\n ]*:[\\\\n ]*\"(?:[^\"\\\\\\\\\\\\x00-\\\\x1f\\\\x7f-\\\\x9f]|\\\\\\\\.)*\"[\\\\n ]*,)?([\\\\n ]*\"last_name\"[\\\\n ]*:[\\\\n ]*\"(?:[^\"\\\\\\\\\\\\x00-\\\\x1f\\\\x7f-\\\\x9f]|\\\\\\\\.)*\"[\\\\n ]*,)?[\\\\n ]*\"id\"[\\\\n ]*:[\\\\n ]*(0|[1-9][0-9]*))?[\\\\n ]*\\\\}})', '{\"properties\": {\"a\": {\"title\": \"A\", \"type\": \"integer\"}, \"b\": {\"title\": \"B\", \"type\": \"integer\"}}, \"required\": [\"a\", \"b\"], \"title\": \"Arguments\", \"type\": \"object\"}\\n{\"properties\": {\"name\": {\"title\": \"Name\", \"type\": \"string\"}, \"last_name\": {\"title\": \"Last Name\", \"type\": \"string\"}, \"id\": {\"title\": \"Id\", \"type\": \"integer\"}}, \"required\": [\"name\", \"last_name\", \"id\"], \"title\": \"User\", \"type\": \"object\"}\\n\\n{\\n  \"title\": \"User\",\\n  \"type\": \"object\",\\n  \"properties\": {\\n    \"name\": {\"type\": \"string\"},\\n    \"last_name\": {\"type\": \"string\"},\\n    \"id\": {\"type\": \"integer\"}\\n  }\\n}\\n')\n"
     ]
    }
   ],
   "source": [
    "def add(a: int, b: int):\n",
    "    return a+b\n",
    "\n",
    "class User(BaseModel):\n",
    "    name: str\n",
    "    last_name: str\n",
    "    id: int\n",
    "\n",
    "schema = \"\"\"\n",
    "{\n",
    "  \"title\": \"User\",\n",
    "  \"type\": \"object\",\n",
    "  \"properties\": {\n",
    "    \"name\": {\"type\": \"string\"},\n",
    "    \"last_name\": {\"type\": \"string\"},\n",
    "    \"id\": {\"type\": \"integer\"}\n",
    "  }\n",
    "}\n",
    "\"\"\"\n",
    "\n",
    "tools = [add, User, schema]\n",
    "regex_str = tool_to_regex(tools)\n",
    "print(regex_str)"
   ]
  },
  {
   "cell_type": "markdown",
   "metadata": {},
   "source": [
    "# Prompt"
   ]
  },
  {
   "cell_type": "code",
   "execution_count": 4,
   "metadata": {},
   "outputs": [],
   "source": [
    "messages = [\n",
    "    {\"role\": \"user\", \"content\": \"Classify this sentiment: vLLM is wonderful!\"}\n",
    "  ]"
   ]
  },
  {
   "cell_type": "code",
   "execution_count": 5,
   "metadata": {},
   "outputs": [],
   "source": [
    "completion = client.chat.completions.create(\n",
    "  model=\"databricks/dbrx-instruct\",\n",
    "  messages=messages,\n",
    "  #extra_body=dict(guided_regex=TEST_REGEX, guided_decoding_backend=\"outlines\"),\n",
    "  )\n",
    "\n",
    "raw_text = completion.choices[0].message.content"
   ]
  }
 ],
 "metadata": {
  "kernelspec": {
   "display_name": "gorilla",
   "language": "python",
   "name": "python3"
  },
  "language_info": {
   "codemirror_mode": {
    "name": "ipython",
    "version": 3
   },
   "file_extension": ".py",
   "mimetype": "text/x-python",
   "name": "python",
   "nbconvert_exporter": "python",
   "pygments_lexer": "ipython3",
   "version": "3.10.14"
  }
 },
 "nbformat": 4,
 "nbformat_minor": 2
}
