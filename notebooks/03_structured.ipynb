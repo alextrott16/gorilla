{
 "cells": [
  {
   "cell_type": "code",
   "execution_count": 7,
   "metadata": {
    "metadata": {}
   },
   "outputs": [],
   "source": [
    "from icecream import install\n",
    "install()"
   ]
  },
  {
   "cell_type": "code",
   "execution_count": 1,
   "metadata": {
    "metadata": {}
   },
   "outputs": [],
   "source": [
    "from tool_use.tools import Tool\n",
    "from tool_use.prompt import get_system_prompt\n",
    "from tool_use.schema import tools_to_schema"
   ]
  },
  {
   "cell_type": "code",
   "execution_count": 30,
   "metadata": {
    "metadata": {}
   },
   "outputs": [],
   "source": [
    "# Data\n",
    "user_query = \"Find the area of a rectangle with length 7 and breadth 3. Also, calculate the area of a circle with radius 5.\"\n",
    "tools = [\n",
    "    {'name': 'volume_cylinder.calculate', 'description': 'Calculate the volume of a cylinder given the radius and the height.', 'parameters': {'type': 'dict', 'properties': {'radius': {'type': 'float', 'description': 'The radius of the cylinder.'}, 'height': {'type': 'float', 'description': 'The height of the cylinder.'}}, 'required': ['radius', 'height']}},\n",
    "\t{'name': 'area_rectangle.calculate', 'description': 'Calculate the area of a rectangle given the length and breadth.', 'parameters': {'type': 'dict', 'properties': {'length': {'type': 'float', 'description': 'The length of the rectangle.'}, 'breadth': {'type': 'float', 'description': 'The breadth of the rectangle.'}}, 'required': ['length', 'breadth']}},\n",
    "\t{'name': 'area_circle.calculate', 'description': 'Calculate the area of a circle given the radius.', 'parameters': {'type': 'dict', 'properties': {'radius': {'type': 'float', 'description': 'The radius of the circle.'}}, 'required': ['radius']}},\n",
    "]\n",
    "solution = [\n",
    "    {'tool_name': 'area_rectangle.calculate', 'tool_arguments': {'length': [7.0], 'breadth': [3.0]}},\n",
    "    {'tool_name': 'area_circle.calculate', 'tool_arguments': {'radius': [5.0]}},\n",
    "]"
   ]
  },
  {
   "cell_type": "code",
   "execution_count": 31,
   "metadata": {
    "metadata": {}
   },
   "outputs": [],
   "source": [
    "# Message\n",
    "tools_schema = tools_to_schema(tools)\n",
    "system_prompt = get_system_prompt(tools_schema)\n",
    "messages = [{\"role\": \"system\", \"content\": system_prompt}, {\"role\": \"user\", \"content\": user_query}]"
   ]
  },
  {
   "cell_type": "code",
   "execution_count": 4,
   "metadata": {
    "metadata": {}
   },
   "outputs": [],
   "source": [
    "# Initialize tool\n",
    "base_url = \"http://localhost:8000/v1\"\n",
    "api_key = \"-\"\n",
    "model_name = \"databricks/dbrx-instruct\"\n",
    "tool = Tool(base_url, api_key, model_name)"
   ]
  },
  {
   "cell_type": "code",
   "execution_count": 5,
   "metadata": {
    "metadata": {}
   },
   "outputs": [
    {
     "name": "stdout",
     "output_type": "stream",
     "text": [
      "Conditional Generation:\n",
      "{'tool_name': 'area_circle.calculate', 'tool_arguments': {'radius': 5.0}}\n",
      "{'tool_name': 'area_rectangle.calculate', 'tool_arguments': {'length': 7.0, 'breadth': 3.0}}\n"
     ]
    }
   ],
   "source": [
    "# Use conditional structured generation to call tools\n",
    "output_messages, tool_calls = tool.conditional(messages, tools, n_tool_calls=2)\n",
    "print(\"Conditional Generation:\")\n",
    "for tool_call in tool_calls: print(tool_call)"
   ]
  },
  {
   "cell_type": "code",
   "execution_count": 32,
   "metadata": {
    "metadata": {}
   },
   "outputs": [
    {
     "name": "stderr",
     "output_type": "stream",
     "text": [
      "ic| n_tool_calls: 1, min_n_tool_calls: None, max_n_tool_calls: None\n"
     ]
    },
    {
     "name": "stdout",
     "output_type": "stream",
     "text": [
      "{}\n",
      "{\"tool_name\": \"area_rectangle.calculate\", \"tool_arguments\": \\{[\\n ]*\"length\"[\\n ]*:[\\n ]*[+-]?[0-9]*\\.[0-9]+([eE][-+]?[0-9]+)?[\\n ]*,[\\n ]*\"breadth\"[\\n ]*:[\\n ]*[+-]?[0-9]*\\.[0-9]+([eE][-+]?[0-9]+)?[\\n ]*\\}}\n",
      "\n",
      " (?:{}|{\"tool_name\": \"area_rectangle.calculate\", \"tool_arguments\": \\{[\\n ]*\"length\"[\\n ]*:[\\n ]*[+-]?[0-9]*\\.[0-9]+([eE][-+]?[0-9]+)?[\\n ]*,[\\n ]*\"breadth\"[\\n ]*:[\\n ]*[+-]?[0-9]*\\.[0-9]+([eE][-+]?[0-9]+)?[\\n ]*\\}})\n",
      "Structured Generation:\n",
      "{'tool_name': 'area_rectangle.calculate', 'tool_arguments': {'length': 7.0, 'breadth': 3.0}}\n"
     ]
    }
   ],
   "source": [
    "# Use structured generation to call tools\n",
    "output_messages, tool_calls = tool.structured(messages, tools[1], n_tool_calls=1)\n",
    "print(\"Structured Generation:\")\n",
    "for tool_call in tool_calls: print(tool_call)"
   ]
  },
  {
   "cell_type": "code",
   "execution_count": 25,
   "metadata": {
    "metadata": {}
   },
   "outputs": [
    {
     "name": "stderr",
     "output_type": "stream",
     "text": [
      "ic| n_tool_calls: 1, min_n_tool_calls: None, max_n_tool_calls: None\n"
     ]
    },
    {
     "name": "stdout",
     "output_type": "stream",
     "text": [
      "\n",
      "{\"tool_name\": \"volume_cylinder.calculate\", \"tool_arguments\": \\{[\\n ]*\"radius\"[\\n ]*:[\\n ]*[+-]?[0-9]*\\.[0-9]+([eE][-+]?[0-9]+)?[\\n ]*,[\\n ]*\"height\"[\\n ]*:[\\n ]*[+-]?[0-9]*\\.[0-9]+([eE][-+]?[0-9]+)?[\\n ]*\\}}\n",
      "\n",
      " (?:|{\"tool_name\": \"volume_cylinder.calculate\", \"tool_arguments\": \\{[\\n ]*\"radius\"[\\n ]*:[\\n ]*[+-]?[0-9]*\\.[0-9]+([eE][-+]?[0-9]+)?[\\n ]*,[\\n ]*\"height\"[\\n ]*:[\\n ]*[+-]?[0-9]*\\.[0-9]+([eE][-+]?[0-9]+)?[\\n ]*\\}})\n",
      "Structured Generation:\n",
      "{'tool_name': 'volume_cylinder.calculate', 'tool_arguments': {'radius': 5.0, 'height': 1.0}}\n"
     ]
    }
   ],
   "source": [
    "# Use structured generation to call tools\n",
    "output_messages, tool_calls = tool.structured(messages, tools[0], n_tool_calls=1)\n",
    "print(\"Structured Generation:\")\n",
    "for tool_call in tool_calls: print(tool_call)"
   ]
  },
  {
   "cell_type": "code",
   "execution_count": 13,
   "metadata": {},
   "outputs": [
    {
     "name": "stdout",
     "output_type": "stream",
     "text": [
      "\n",
      "Unstructured Generation:\n",
      "{'tool_name': 'area_rectangle.calculate', 'tool_arguments': {'length': 7, 'breadth': 3}}\n",
      "{'tool_name': 'area_circle.calculate', 'tool_arguments': {'radius': 5}}\n"
     ]
    }
   ],
   "source": [
    "# Use unstructured generation to call tools\n",
    "output_messages, tool_calls = tool.unstructured(messages)\n",
    "print(\"Unstructured Generation:\")\n",
    "for tool_call in tool_calls: print(tool_call)"
   ]
  }
 ],
 "metadata": {
  "kernelspec": {
   "display_name": "gorilla",
   "language": "python",
   "name": "python3"
  },
  "language_info": {
   "codemirror_mode": {
    "name": "ipython",
    "version": 3
   },
   "file_extension": ".py",
   "mimetype": "text/x-python",
   "name": "python",
   "nbconvert_exporter": "python",
   "pygments_lexer": "ipython3",
   "version": "3.10.14"
  }
 },
 "nbformat": 4,
 "nbformat_minor": 2
}
