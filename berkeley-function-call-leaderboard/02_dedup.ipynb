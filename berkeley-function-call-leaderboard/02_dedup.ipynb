{
 "cells": [
  {
   "cell_type": "code",
   "execution_count": 1,
   "metadata": {},
   "outputs": [
    {
     "name": "stderr",
     "output_type": "stream",
     "text": [
      "/root/venvs/gorilla/lib/python3.10/site-packages/tree_sitter/__init__.py:36: FutureWarning: Language.build_library is deprecated. Use the new bindings instead.\n",
      "  warn(\"{} is deprecated. Use {} instead.\".format(old, new), FutureWarning)\n",
      "/root/venvs/gorilla/lib/python3.10/site-packages/tree_sitter/__init__.py:36: FutureWarning: Language(path, name) is deprecated. Use Language(ptr, name) instead.\n",
      "  warn(\"{} is deprecated. Use {} instead.\".format(old, new), FutureWarning)\n"
     ]
    }
   ],
   "source": [
    "import json\n",
    "\n",
    "from model_handler.utils import ast_parse"
   ]
  },
  {
   "cell_type": "code",
   "execution_count": 54,
   "metadata": {},
   "outputs": [],
   "source": [
    "path = \"/root/gorilla/berkeley-function-call-leaderboard/result/databricks-dbrx-instruct-tmp0/gorilla_openfunctions_v1_test_parallel_multiple_function.json\"\n",
    "generations = []\n",
    "\n",
    "with open(path, \"r\") as f:\n",
    "    for line in f:\n",
    "        generations.append(json.loads(line))"
   ]
  },
  {
   "cell_type": "code",
   "execution_count": 61,
   "metadata": {},
   "outputs": [],
   "source": [
    "def remove_duplicates(json_list):\n",
    "    unique_json_list = []\n",
    "    unique_json_strings = set()\n",
    "\n",
    "    for json_obj in json_list:\n",
    "        json_string = json.dumps(json_obj, sort_keys=True)\n",
    "        if json_string not in unique_json_strings:\n",
    "            unique_json_list.append(json_obj)\n",
    "            unique_json_strings.add(json_string)\n",
    "\n",
    "    return unique_json_list"
   ]
  },
  {
   "cell_type": "code",
   "execution_count": 56,
   "metadata": {},
   "outputs": [],
   "source": [
    "def bfcl_format(tool_calls):\n",
    "    tool_strs = []\n",
    "    for tool_call in tool_calls:\n",
    "        tool_name = list(tool_call.keys())[0]\n",
    "        tool_args = list(tool_call.values())[0]\n",
    "        args_string = ', '.join([f\"{key}='{value}'\" if isinstance(value, str) else f\"{key}={value}\" for key, value in tool_args.items()])\n",
    "        tool_str = f'{tool_name}({args_string})'\n",
    "        tool_strs.append(tool_str)\n",
    "    result = '[' + ', '.join(tool_strs) + ']'\n",
    "    return result"
   ]
  },
  {
   "cell_type": "code",
   "execution_count": 57,
   "metadata": {},
   "outputs": [
    {
     "data": {
      "text/plain": [
       "'[circle.calculate_area(radius=5), circle.calculate_circumference(diameter=10), circle.calculate_circumference(diameter=10)]'"
      ]
     },
     "execution_count": 57,
     "metadata": {},
     "output_type": "execute_result"
    }
   ],
   "source": [
    "generations[2][\"result\"]"
   ]
  },
  {
   "cell_type": "code",
   "execution_count": 62,
   "metadata": {},
   "outputs": [],
   "source": [
    "new_generations = []\n",
    "for i, gen in enumerate(generations):\n",
    "    result = gen[\"result\"]\n",
    "    if \"error\" in result:\n",
    "        new_generations.append(gen)\n",
    "        continue\n",
    "    tool_calls = ast_parse(result, \"Python\")\n",
    "    tool_calls = remove_duplicates(tool_calls)\n",
    "    new_result = bfcl_format(tool_calls)\n",
    "    gen[\"result\"] = new_result\n",
    "    new_generations.append(gen)"
   ]
  },
  {
   "cell_type": "code",
   "execution_count": 65,
   "metadata": {},
   "outputs": [],
   "source": [
    "write_path = \"/root/gorilla/berkeley-function-call-leaderboard/result/databricks-dbrx-instruct-tmp0/gorilla_openfunctions_v1_test_parallel_multiple_function_dedup.json\"\n",
    "\n",
    "with open(write_path, \"w\") as f:\n",
    "    for new_gen in generations:\n",
    "        f.write(json.dumps(new_gen) + \"\\n\")"
   ]
  },
  {
   "cell_type": "code",
   "execution_count": 1,
   "metadata": {},
   "outputs": [],
   "source": [
    "from model_handler.outlines_vllm_handler_v2 import OutlinesVllmHandler\n"
   ]
  },
  {
   "cell_type": "code",
   "execution_count": 2,
   "metadata": {},
   "outputs": [],
   "source": [
    "model_name = \"meta-llama/Meta-Llama-3-70B-Instruct\"\n",
    "temperature = 0\n",
    "top_p = 1\n",
    "max_tokens = 150\n",
    "handler = OutlinesVllmHandler(model_name, temperature, top_p, max_tokens)"
   ]
  },
  {
   "cell_type": "code",
   "execution_count": 4,
   "metadata": {},
   "outputs": [
    {
     "data": {
      "text/plain": [
       "{'model_style': <ModelStyle.Outlines: 'outlines'>,\n",
       " 'n_tool_calls': 1,\n",
       " 'gen_mode': 'conditional',\n",
       " 'model_name': 'meta-llama/Meta-Llama-3-70B-Instruct',\n",
       " 'temperature': 0,\n",
       " 'top_p': 1,\n",
       " 'max_tokens': 150,\n",
       " 'base_url': 'http://localhost:8000/v1',\n",
       " 'api_key': '-',\n",
       " 'tool': <tool_use.tools.Tool at 0x7fd6ec12e8c0>,\n",
       " 'idx': 0,\n",
       " 'solutions': None}"
      ]
     },
     "execution_count": 4,
     "metadata": {},
     "output_type": "execute_result"
    }
   ],
   "source": [
    "if \"gen_mode\" in vars(handler):\n",
    "    handler.gen_mode = gen_mode"
   ]
  },
  {
   "cell_type": "code",
   "execution_count": 17,
   "metadata": {},
   "outputs": [],
   "source": [
    "import json\n",
    "path = \"/root/gorilla/berkeley-function-call-leaderboard/outputs/databricks_dbrx-instruct__conditional_0.7_1200/fingerprint.jsonl\"\n",
    "\n",
    "outputs = {}\n",
    "with open(path, \"r\") as f:\n",
    "    for line in f:\n",
    "        outputs |= json.loads(line)"
   ]
  },
  {
   "cell_type": "code",
   "execution_count": 18,
   "metadata": {},
   "outputs": [
    {
     "data": {
      "text/plain": [
       "{'model': 'databricks/dbrx-instruct',\n",
       " 'temperature': 0.7,\n",
       " 'top_p': 1,\n",
       " 'max_tokens': 1200,\n",
       " 'gen_mode': 'conditional',\n",
       " 'limit': 2,\n",
       " 'limit_start': 0}"
      ]
     },
     "execution_count": 18,
     "metadata": {},
     "output_type": "execute_result"
    }
   ],
   "source": [
    "outputs"
   ]
  },
  {
   "cell_type": "code",
   "execution_count": null,
   "metadata": {},
   "outputs": [],
   "source": []
  }
 ],
 "metadata": {
  "kernelspec": {
   "display_name": "gorilla",
   "language": "python",
   "name": "python3"
  },
  "language_info": {
   "codemirror_mode": {
    "name": "ipython",
    "version": 3
   },
   "file_extension": ".py",
   "mimetype": "text/x-python",
   "name": "python",
   "nbconvert_exporter": "python",
   "pygments_lexer": "ipython3",
   "version": "3.10.14"
  }
 },
 "nbformat": 4,
 "nbformat_minor": 2
}
