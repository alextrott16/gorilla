{
 "cells": [
  {
   "cell_type": "code",
   "execution_count": 1,
   "metadata": {},
   "outputs": [],
   "source": [
    "import copy\n",
    "import os\n",
    "import json\n",
    "from pprint import pp"
   ]
  },
  {
   "cell_type": "code",
   "execution_count": 2,
   "metadata": {},
   "outputs": [
    {
     "data": {
      "text/plain": [
       "'/root/gorilla/berkeley-function-call-leaderboard/outputs/databricks_dbrx-instruct__structured_auto-dedup_0.7_1200_1'"
      ]
     },
     "execution_count": 2,
     "metadata": {},
     "output_type": "execute_result"
    }
   ],
   "source": [
    "model_dir = \"/root/gorilla/berkeley-function-call-leaderboard/outputs/databricks_dbrx-instruct__structured_auto_0.7_1200_1\"\n",
    "out_dir = model_dir.replace(\"auto\", \"auto-dedup\").replace(\"solution\", \"solution-dedup\")\n",
    "out_dir"
   ]
  },
  {
   "cell_type": "code",
   "execution_count": 12,
   "metadata": {},
   "outputs": [],
   "source": [
    "def new_fingerprint(model_dir, out_dir):\n",
    "    fingerprint_path = os.path.join(model_dir, \"fingerprint.jsonl\")\n",
    "    fingerprint = {}\n",
    "    with open(fingerprint_path, \"r\") as f:\n",
    "        for line in f:\n",
    "            fingerprint |= json.loads(line)\n",
    "\n",
    "    fingerprint[\"n_tool_calls\"] += \"-dedup\"\n",
    "    new_fingerprint_path = os.path.join(out_dir, \"fingerprint.jsonl\")\n",
    "\n",
    "    with open(new_fingerprint_path, \"w\") as f:\n",
    "        for key, value in fingerprint.items():\n",
    "            json_line = json.dumps({key: value})\n",
    "            f.write(json_line + '\\n')"
   ]
  },
  {
   "cell_type": "code",
   "execution_count": 21,
   "metadata": {},
   "outputs": [],
   "source": [
    "fingerprint_path = os.path.join(model_dir, \"fingerprint.jsonl\")\n",
    "fingerprint = {}\n",
    "with open(fingerprint_path, \"r\") as f:\n",
    "    for line in f:\n",
    "        fingerprint |= json.loads(line)\n",
    "\n",
    "fingerprint[\"n_tool_calls\"] += \"-dedup\"\n",
    "new_fingerprint_path = os.path.join(out_dir, \"fingerprint.jsonl\")\n",
    "\n",
    "with open(new_fingerprint_path, \"w\") as f:\n",
    "    for key, value in fingerprint.items():\n",
    "        json_line = json.dumps({key: value})\n",
    "        f.write(json_line + '\\n')"
   ]
  },
  {
   "cell_type": "code",
   "execution_count": 3,
   "metadata": {},
   "outputs": [],
   "source": [
    "def get_files(path):\n",
    "    file_list = []\n",
    "    for root, dirs, files in os.walk(path):\n",
    "        for file in files:\n",
    "            file_path = os.path.join(root, file)\n",
    "            file_list.append(file_path)\n",
    "    return file_list"
   ]
  },
  {
   "cell_type": "code",
   "execution_count": 4,
   "metadata": {},
   "outputs": [],
   "source": [
    "def get_generations(path):\n",
    "    generations = []\n",
    "    with open(path, \"r\") as f:\n",
    "        for line in f:\n",
    "            generations.append(json.loads(line))\n",
    "    return generations"
   ]
  },
  {
   "cell_type": "code",
   "execution_count": 5,
   "metadata": {},
   "outputs": [],
   "source": [
    "def remove_duplicates(json_list):\n",
    "    unique_json_list = []\n",
    "    unique_json_strings = set()\n",
    "\n",
    "    for json_obj in json_list:\n",
    "        json_string = json.dumps(json_obj, sort_keys=True)\n",
    "        if json_string not in unique_json_strings:\n",
    "            unique_json_list.append(json_obj)\n",
    "            unique_json_strings.add(json_string)\n",
    "\n",
    "    return unique_json_list"
   ]
  },
  {
   "cell_type": "code",
   "execution_count": 6,
   "metadata": {},
   "outputs": [],
   "source": [
    "def bfcl_format(tool_calls):\n",
    "    tool_strs = []\n",
    "    for tool_call in tool_calls:\n",
    "        tool_name = tool_call[\"tool_name\"]\n",
    "        tool_args = tool_call[\"tool_arguments\"]\n",
    "        args_string = ', '.join([f\"{key}='{value}'\" if isinstance(value, str) else f\"{key}={value}\" for key, value in tool_args.items()])\n",
    "        tool_str = f'{tool_name}({args_string})'\n",
    "        tool_strs.append(tool_str)\n",
    "    result = '[' + ', '.join(tool_strs) + ']'\n",
    "    return result"
   ]
  },
  {
   "cell_type": "code",
   "execution_count": 7,
   "metadata": {},
   "outputs": [],
   "source": [
    "def get_new_generations(generations):\n",
    "\n",
    "    new_generations = []\n",
    "    _generations = copy.deepcopy(generations)\n",
    "    for i, gen in enumerate(_generations):\n",
    "        result = gen[\"result\"]\n",
    "        if \"error\" in result:\n",
    "            new_generations.append(gen)\n",
    "            continue\n",
    "        tool_calls = gen[\"tool_calls\"]\n",
    "        tool_calls = remove_duplicates(tool_calls)\n",
    "        new_result = bfcl_format(tool_calls)\n",
    "        gen[\"result\"] = new_result\n",
    "        gen[\"tool_calls\"] = tool_calls\n",
    "        new_generations.append(gen)\n",
    "\n",
    "    return new_generations"
   ]
  },
  {
   "cell_type": "code",
   "execution_count": 11,
   "metadata": {},
   "outputs": [],
   "source": [
    "def save_new_generations(out_dir, generations_path, new_generations):\n",
    "    new_generations_path = os.path.join(out_dir, \"generations\", generations_path.split(\"/\")[-1])\n",
    "    os.makedirs(os.path.dirname(new_generations_path), exist_ok=True)\n",
    "    with open(new_generations_path, \"w\") as f:\n",
    "        for new_gen in new_generations:\n",
    "            f.write(json.dumps(new_gen) + \"\\n\")"
   ]
  },
  {
   "cell_type": "code",
   "execution_count": 8,
   "metadata": {},
   "outputs": [],
   "source": [
    "generations_dir = os.path.join(model_dir, \"generations\")\n",
    "generations_paths = get_files(generations_dir)"
   ]
  },
  {
   "cell_type": "code",
   "execution_count": 9,
   "metadata": {},
   "outputs": [],
   "source": [
    "for generations_path in generations_paths:\n",
    "\n",
    "    # Load generations\n",
    "    generations = get_generations(generations_path)\n",
    "\n",
    "    # Make new generations\n",
    "    new_generations = get_new_generations(generations)\n",
    "\n",
    "    # Save new generations\n",
    "    save_new_generations(out_dir, generations_path, new_generations)"
   ]
  },
  {
   "cell_type": "code",
   "execution_count": 22,
   "metadata": {},
   "outputs": [],
   "source": [
    "def get_directories(path):\n",
    "    directories = []\n",
    "\n",
    "    for item in os.listdir(path):\n",
    "        item_path = os.path.join(path, item)\n",
    "        if os.path.isdir(item_path):\n",
    "            directories.append(item_path)\n",
    "\n",
    "    return directories"
   ]
  },
  {
   "cell_type": "code",
   "execution_count": 23,
   "metadata": {},
   "outputs": [
    {
     "data": {
      "text/plain": [
       "['/root/gorilla/berkeley-function-call-leaderboard/outputs/databricks_dbrx-instruct__conditional_solution_0.7_1200',\n",
       " '/root/gorilla/berkeley-function-call-leaderboard/outputs/databricks_dbrx-instruct__structured_solution_0.7_1200',\n",
       " '/root/gorilla/berkeley-function-call-leaderboard/outputs/databricks_dbrx-instruct__structured_auto_0.7_1200_1',\n",
       " '/root/gorilla/berkeley-function-call-leaderboard/outputs/databricks_dbrx-instruct__conditional_auto_0.7_1200_1',\n",
       " '/root/gorilla/berkeley-function-call-leaderboard/outputs/databricks_dbrx-instruct__unstructured_solution_0.7_1200']"
      ]
     },
     "execution_count": 23,
     "metadata": {},
     "output_type": "execute_result"
    }
   ],
   "source": [
    "path = \"/root/gorilla/berkeley-function-call-leaderboard/outputs\"\n",
    "get_directories(path)"
   ]
  },
  {
   "cell_type": "code",
   "execution_count": null,
   "metadata": {},
   "outputs": [],
   "source": []
  }
 ],
 "metadata": {
  "kernelspec": {
   "display_name": "gorilla",
   "language": "python",
   "name": "python3"
  },
  "language_info": {
   "codemirror_mode": {
    "name": "ipython",
    "version": 3
   },
   "file_extension": ".py",
   "mimetype": "text/x-python",
   "name": "python",
   "nbconvert_exporter": "python",
   "pygments_lexer": "ipython3",
   "version": "3.10.14"
  }
 },
 "nbformat": 4,
 "nbformat_minor": 2
}
