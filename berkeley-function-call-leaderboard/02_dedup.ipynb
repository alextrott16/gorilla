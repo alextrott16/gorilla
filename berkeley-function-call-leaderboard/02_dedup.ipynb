{
 "cells": [
  {
   "cell_type": "code",
   "execution_count": 1,
   "metadata": {},
   "outputs": [],
   "source": [
    "import copy\n",
    "import os\n",
    "import json\n",
    "from pprint import pp"
   ]
  },
  {
   "cell_type": "code",
   "execution_count": 2,
   "metadata": {},
   "outputs": [
    {
     "data": {
      "text/plain": [
       "'/root/gorilla/berkeley-function-call-leaderboard/outputs/databricks_dbrx-instruct__structured_auto-dedup_0.7_1200_1'"
      ]
     },
     "execution_count": 2,
     "metadata": {},
     "output_type": "execute_result"
    }
   ],
   "source": [
    "model_dir = \"/root/gorilla/berkeley-function-call-leaderboard/outputs/databricks_dbrx-instruct__structured_auto_0.7_1200_1\"\n",
    "out_dir = model_dir.replace(\"auto\", \"auto-dedup\").replace(\"solution\", \"solution-dedup\")\n",
    "out_dir"
   ]
  },
  {
   "cell_type": "code",
   "execution_count": 12,
   "metadata": {},
   "outputs": [],
   "source": [
    "def new_fingerprint(model_dir, out_dir):\n",
    "    fingerprint_path = os.path.join(model_dir, \"fingerprint.jsonl\")\n",
    "    fingerprint = {}\n",
    "    with open(fingerprint_path, \"r\") as f:\n",
    "        for line in f:\n",
    "            fingerprint |= json.loads(line)\n",
    "\n",
    "    fingerprint[\"n_tool_calls\"] += \"-dedup\"\n",
    "    new_fingerprint_path = os.path.join(out_dir, \"fingerprint.jsonl\")\n",
    "\n",
    "    with open(new_fingerprint_path, \"w\") as f:\n",
    "        for key, value in fingerprint.items():\n",
    "            json_line = json.dumps({key: value})\n",
    "            f.write(json_line + '\\n')"
   ]
  },
  {
   "cell_type": "code",
   "execution_count": 21,
   "metadata": {},
   "outputs": [],
   "source": [
    "fingerprint_path = os.path.join(model_dir, \"fingerprint.jsonl\")\n",
    "fingerprint = {}\n",
    "with open(fingerprint_path, \"r\") as f:\n",
    "    for line in f:\n",
    "        fingerprint |= json.loads(line)\n",
    "\n",
    "fingerprint[\"n_tool_calls\"] += \"-dedup\"\n",
    "new_fingerprint_path = os.path.join(out_dir, \"fingerprint.jsonl\")\n",
    "\n",
    "with open(new_fingerprint_path, \"w\") as f:\n",
    "    for key, value in fingerprint.items():\n",
    "        json_line = json.dumps({key: value})\n",
    "        f.write(json_line + '\\n')"
   ]
  },
  {
   "cell_type": "code",
   "execution_count": 3,
   "metadata": {},
   "outputs": [],
   "source": [
    "def get_files(path):\n",
    "    file_list = []\n",
    "    for root, dirs, files in os.walk(path):\n",
    "        for file in files:\n",
    "            file_path = os.path.join(root, file)\n",
    "            file_list.append(file_path)\n",
    "    return file_list"
   ]
  },
  {
   "cell_type": "code",
   "execution_count": 4,
   "metadata": {},
   "outputs": [],
   "source": [
    "def get_generations(path):\n",
    "    generations = []\n",
    "    with open(path, \"r\") as f:\n",
    "        for line in f:\n",
    "            generations.append(json.loads(line))\n",
    "    return generations"
   ]
  },
  {
   "cell_type": "code",
   "execution_count": 5,
   "metadata": {},
   "outputs": [],
   "source": [
    "def remove_duplicates(json_list):\n",
    "    unique_json_list = []\n",
    "    unique_json_strings = set()\n",
    "\n",
    "    for json_obj in json_list:\n",
    "        json_string = json.dumps(json_obj, sort_keys=True)\n",
    "        if json_string not in unique_json_strings:\n",
    "            unique_json_list.append(json_obj)\n",
    "            unique_json_strings.add(json_string)\n",
    "\n",
    "    return unique_json_list"
   ]
  },
  {
   "cell_type": "code",
   "execution_count": 6,
   "metadata": {},
   "outputs": [],
   "source": [
    "def bfcl_format(tool_calls):\n",
    "    tool_strs = []\n",
    "    for tool_call in tool_calls:\n",
    "        tool_name = tool_call[\"tool_name\"]\n",
    "        tool_args = tool_call[\"tool_arguments\"]\n",
    "        args_string = ', '.join([f\"{key}='{value}'\" if isinstance(value, str) else f\"{key}={value}\" for key, value in tool_args.items()])\n",
    "        tool_str = f'{tool_name}({args_string})'\n",
    "        tool_strs.append(tool_str)\n",
    "    result = '[' + ', '.join(tool_strs) + ']'\n",
    "    return result"
   ]
  },
  {
   "cell_type": "code",
   "execution_count": 7,
   "metadata": {},
   "outputs": [],
   "source": [
    "def get_new_generations(generations):\n",
    "\n",
    "    new_generations = []\n",
    "    _generations = copy.deepcopy(generations)\n",
    "    for i, gen in enumerate(_generations):\n",
    "        result = gen[\"result\"]\n",
    "        if \"error\" in result:\n",
    "            new_generations.append(gen)\n",
    "            continue\n",
    "        tool_calls = gen[\"tool_calls\"]\n",
    "        tool_calls = remove_duplicates(tool_calls)\n",
    "        new_result = bfcl_format(tool_calls)\n",
    "        gen[\"result\"] = new_result\n",
    "        gen[\"tool_calls\"] = tool_calls\n",
    "        new_generations.append(gen)\n",
    "\n",
    "    return new_generations"
   ]
  },
  {
   "cell_type": "code",
   "execution_count": 11,
   "metadata": {},
   "outputs": [],
   "source": [
    "def save_new_generations(out_dir, generations_path, new_generations):\n",
    "    new_generations_path = os.path.join(out_dir, \"generations\", generations_path.split(\"/\")[-1])\n",
    "    os.makedirs(os.path.dirname(new_generations_path), exist_ok=True)\n",
    "    with open(new_generations_path, \"w\") as f:\n",
    "        for new_gen in new_generations:\n",
    "            f.write(json.dumps(new_gen) + \"\\n\")"
   ]
  },
  {
   "cell_type": "code",
   "execution_count": 8,
   "metadata": {},
   "outputs": [],
   "source": [
    "generations_dir = os.path.join(model_dir, \"generations\")\n",
    "generations_paths = get_files(generations_dir)"
   ]
  },
  {
   "cell_type": "code",
   "execution_count": 9,
   "metadata": {},
   "outputs": [],
   "source": [
    "for generations_path in generations_paths:\n",
    "\n",
    "    # Load generations\n",
    "    generations = get_generations(generations_path)\n",
    "\n",
    "    # Make new generations\n",
    "    new_generations = get_new_generations(generations)\n",
    "\n",
    "    # Save new generations\n",
    "    save_new_generations(out_dir, generations_path, new_generations)"
   ]
  },
  {
   "cell_type": "code",
   "execution_count": 22,
   "metadata": {},
   "outputs": [],
   "source": [
    "def get_directories(path):\n",
    "    directories = []\n",
    "\n",
    "    for item in os.listdir(path):\n",
    "        item_path = os.path.join(path, item)\n",
    "        if os.path.isdir(item_path):\n",
    "            directories.append(item_path)\n",
    "\n",
    "    return directories"
   ]
  },
  {
   "cell_type": "code",
   "execution_count": 23,
   "metadata": {},
   "outputs": [
    {
     "data": {
      "text/plain": [
       "['/root/gorilla/berkeley-function-call-leaderboard/outputs/databricks_dbrx-instruct__conditional_solution_0.7_1200',\n",
       " '/root/gorilla/berkeley-function-call-leaderboard/outputs/databricks_dbrx-instruct__structured_solution_0.7_1200',\n",
       " '/root/gorilla/berkeley-function-call-leaderboard/outputs/databricks_dbrx-instruct__structured_auto_0.7_1200_1',\n",
       " '/root/gorilla/berkeley-function-call-leaderboard/outputs/databricks_dbrx-instruct__conditional_auto_0.7_1200_1',\n",
       " '/root/gorilla/berkeley-function-call-leaderboard/outputs/databricks_dbrx-instruct__unstructured_solution_0.7_1200']"
      ]
     },
     "execution_count": 23,
     "metadata": {},
     "output_type": "execute_result"
    }
   ],
   "source": [
    "path = \"/root/gorilla/berkeley-function-call-leaderboard/outputs\"\n",
    "get_directories(path)"
   ]
  },
  {
   "cell_type": "markdown",
   "metadata": {},
   "source": [
    "# Explore Results"
   ]
  },
  {
   "cell_type": "code",
   "execution_count": 6,
   "metadata": {},
   "outputs": [],
   "source": [
    "from tool_use.tool import Tool\n",
    "from tool_use.prompt import get_system_prompt"
   ]
  },
  {
   "cell_type": "code",
   "execution_count": 4,
   "metadata": {},
   "outputs": [],
   "source": [
    "# Initialize tool\n",
    "base_url = \"http://localhost:8000/v1\"\n",
    "api_key = \"-\"\n",
    "model_name = \"databricks/dbrx-instruct\"\n",
    "tool = Tool(base_url, api_key, model_name)"
   ]
  },
  {
   "cell_type": "code",
   "execution_count": 7,
   "metadata": {},
   "outputs": [
    {
     "data": {
      "text/plain": [
       "{'idx': 38,\n",
       " 'result': '[]',\n",
       " 'input_token_count': 0,\n",
       " 'output_token_count': 0,\n",
       " 'latency': 1.2113571166992188,\n",
       " 'messages': [{'role': 'system',\n",
       "   'content': 'You are a function calling AI model. Your job is to answer the user\\'s questions and you may call one or more functions to do this.\\n\\n\\n    Please use your own judgment as to whether or not you should call a function. In particular, you must follow these guiding principles:\\n    1. You may call one or more functions to assist with the user query. You should call multiple functions when the user asks you to.\\n    2. You do not need to call a function. If none of the functions can be used to answer the user\\'s question, please do not make the function call.\\n    3. Don\\'t make assumptions about what values to plug into functions. If you are missing the parameters to make a function call, please ask the user for the parameters.\\n    4. You may assume the user has implemented the function themselves.\\n    5. You may assume the user will call the function on their own. You should NOT ask the user to call the function and let you know the result; they will do this on their own.\\n    6. Never call a tool twice with the same exact arguments. Do not repeat your tool calls!\\n\\n\\n    You can only call functions according the following formatting rules:\\n    Rule 1: All the functions you have access to are contained within <tool></tools> XML tags. You cannot use any functions that are not listed between these tags.\\n\\n    Rule 2: For each function call return a json object (using quotes) with function name and arguments within <tool_call>\\n{ }\\n</tool_call> XML tags as follows:\\n    * With arguments:\\n    <tool_call>\\n{\"tool_name\": \"function_name\", \"tool_arguments\": {\"argument_1_name\": \"value\", \"argument_2_name\": \"value\"} }\\n</tool_call>\\n    * Without arguments:\\n    <tool_call>\\n{ \"tool_name\": \"function_name\", \"tool_arguments\": {} }\\n</tool_call>\\n    In between <tool_call> and</tool_call> tags, you MUST respond in a valid JSON schema.\\n    In between the <tool_call> and </tool_call> tags you MUST only write in json; no other text is allowed.\\n\\n    Rule 3: If user decides to run the function, they will output the result of the function call between the <tool_response> and </tool_response> tags. If it answers the user\\'s question, you should incorporate the output of the function in your answer.\\n\\n\\n    Here are the tools available to you:\\n    <tool>\\n{\"title\": \"calculate_electrostatic_potential\", \"type\": \"object\", \"description\": \"Calculate the electrostatic potential between two charged bodies using the principle of Coulomb\\'s Law.\", \"properties\": {\"charge1\": {\"type\": \"float\", \"description\": \"The quantity of charge on the first body.\"}, \"charge2\": {\"type\": \"float\", \"description\": \"The quantity of charge on the second body.\"}, \"distance\": {\"type\": \"float\", \"description\": \"The distance between the two bodies.\"}, \"constant\": {\"type\": \"float\", \"description\": \"The value of the electrostatic constant. Default is 8.99e9.\"}}, \"required\": [\"charge1\", \"charge2\", \"distance\"]}\\n</tools>\\n\\n    Remember, don\\'t make assumptions about what values to plug into functions. If you are missing the parameters to make a function call, please ask the user for the parameters. Do not be afraid to ask.\\n    '},\n",
       "  {'role': 'user',\n",
       "   'content': 'What is the electrostatic potential between two charged bodies of 1e-9 and 2e-9 of distance 0.05?'},\n",
       "  {'role': 'assistant',\n",
       "   'content': 'Sure, I can help you with that. To calculate the electrostatic potential between two charged bodies, I can use the `calculate_electrostatic_potential` function. However, I need the value of the electrostatic constant to make the function call. Could you please provide me with the value of the electrostatic constant? The default value is 8.99e9.<tool_call>'}],\n",
       " 'tool_calls': [],\n",
       " 'n_tool_calls': 'auto'}"
      ]
     },
     "execution_count": 7,
     "metadata": {},
     "output_type": "execute_result"
    }
   ],
   "source": [
    "example = {\"idx\": 38, \"result\": \"[]\", \"input_token_count\": 0, \"output_token_count\": 0, \"latency\": 1.2113571166992188, \"messages\": [{\"role\": \"system\", \"content\": \"You are a function calling AI model. Your job is to answer the user's questions and you may call one or more functions to do this.\\n\\n\\n    Please use your own judgment as to whether or not you should call a function. In particular, you must follow these guiding principles:\\n    1. You may call one or more functions to assist with the user query. You should call multiple functions when the user asks you to.\\n    2. You do not need to call a function. If none of the functions can be used to answer the user's question, please do not make the function call.\\n    3. Don't make assumptions about what values to plug into functions. If you are missing the parameters to make a function call, please ask the user for the parameters.\\n    4. You may assume the user has implemented the function themselves.\\n    5. You may assume the user will call the function on their own. You should NOT ask the user to call the function and let you know the result; they will do this on their own.\\n    6. Never call a tool twice with the same exact arguments. Do not repeat your tool calls!\\n\\n\\n    You can only call functions according the following formatting rules:\\n    Rule 1: All the functions you have access to are contained within <tool></tools> XML tags. You cannot use any functions that are not listed between these tags.\\n\\n    Rule 2: For each function call return a json object (using quotes) with function name and arguments within <tool_call>\\n{ }\\n</tool_call> XML tags as follows:\\n    * With arguments:\\n    <tool_call>\\n{\\\"tool_name\\\": \\\"function_name\\\", \\\"tool_arguments\\\": {\\\"argument_1_name\\\": \\\"value\\\", \\\"argument_2_name\\\": \\\"value\\\"} }\\n</tool_call>\\n    * Without arguments:\\n    <tool_call>\\n{ \\\"tool_name\\\": \\\"function_name\\\", \\\"tool_arguments\\\": {} }\\n</tool_call>\\n    In between <tool_call> and</tool_call> tags, you MUST respond in a valid JSON schema.\\n    In between the <tool_call> and </tool_call> tags you MUST only write in json; no other text is allowed.\\n\\n    Rule 3: If user decides to run the function, they will output the result of the function call between the <tool_response> and </tool_response> tags. If it answers the user's question, you should incorporate the output of the function in your answer.\\n\\n\\n    Here are the tools available to you:\\n    <tool>\\n{\\\"title\\\": \\\"calculate_electrostatic_potential\\\", \\\"type\\\": \\\"object\\\", \\\"description\\\": \\\"Calculate the electrostatic potential between two charged bodies using the principle of Coulomb's Law.\\\", \\\"properties\\\": {\\\"charge1\\\": {\\\"type\\\": \\\"float\\\", \\\"description\\\": \\\"The quantity of charge on the first body.\\\"}, \\\"charge2\\\": {\\\"type\\\": \\\"float\\\", \\\"description\\\": \\\"The quantity of charge on the second body.\\\"}, \\\"distance\\\": {\\\"type\\\": \\\"float\\\", \\\"description\\\": \\\"The distance between the two bodies.\\\"}, \\\"constant\\\": {\\\"type\\\": \\\"float\\\", \\\"description\\\": \\\"The value of the electrostatic constant. Default is 8.99e9.\\\"}}, \\\"required\\\": [\\\"charge1\\\", \\\"charge2\\\", \\\"distance\\\"]}\\n</tools>\\n\\n    Remember, don't make assumptions about what values to plug into functions. If you are missing the parameters to make a function call, please ask the user for the parameters. Do not be afraid to ask.\\n    \"}, {\"role\": \"user\", \"content\": \"What is the electrostatic potential between two charged bodies of 1e-9 and 2e-9 of distance 0.05?\"}, {\"role\": \"assistant\", \"content\": \"Sure, I can help you with that. To calculate the electrostatic potential between two charged bodies, I can use the `calculate_electrostatic_potential` function. However, I need the value of the electrostatic constant to make the function call. Could you please provide me with the value of the electrostatic constant? The default value is 8.99e9.<tool_call>\"}], \"tool_calls\": [], \"n_tool_calls\": \"auto\"}\n",
    "example"
   ]
  },
  {
   "cell_type": "code",
   "execution_count": 9,
   "metadata": {},
   "outputs": [
    {
     "data": {
      "text/plain": [
       "{'role': 'user',\n",
       " 'content': 'What is the electrostatic potential between two charged bodies of 1e-9 and 2e-9 of distance 0.05?'}"
      ]
     },
     "execution_count": 9,
     "metadata": {},
     "output_type": "execute_result"
    }
   ],
   "source": [
    "user_query = example[\"messages\"][1]"
   ]
  },
  {
   "cell_type": "code",
   "execution_count": null,
   "metadata": {},
   "outputs": [],
   "source": []
  }
 ],
 "metadata": {
  "kernelspec": {
   "display_name": "gorilla",
   "language": "python",
   "name": "python3"
  },
  "language_info": {
   "codemirror_mode": {
    "name": "ipython",
    "version": 3
   },
   "file_extension": ".py",
   "mimetype": "text/x-python",
   "name": "python",
   "nbconvert_exporter": "python",
   "pygments_lexer": "ipython3",
   "version": "3.10.14"
  }
 },
 "nbformat": 4,
 "nbformat_minor": 2
}
