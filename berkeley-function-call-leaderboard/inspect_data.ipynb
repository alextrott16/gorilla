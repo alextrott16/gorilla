{
 "cells": [
  {
   "cell_type": "code",
   "execution_count": 1,
   "metadata": {},
   "outputs": [],
   "source": [
    "import json\n",
    "import os"
   ]
  },
  {
   "cell_type": "code",
   "execution_count": 2,
   "metadata": {},
   "outputs": [],
   "source": [
    "def get_directories(path):\n",
    "    dirs = [dir for dir in os.listdir(path) if os.path.isdir(os.path.join(path, dir))]\n",
    "    return dirs"
   ]
  },
  {
   "cell_type": "code",
   "execution_count": 3,
   "metadata": {},
   "outputs": [],
   "source": [
    "def load_jsonl(path):\n",
    "    lines = []\n",
    "    with open(path, \"r\") as file:\n",
    "        for line in file:\n",
    "            lines.append(json.loads(line))\n",
    "    return lines"
   ]
  },
  {
   "cell_type": "code",
   "execution_count": 4,
   "metadata": {},
   "outputs": [],
   "source": [
    "def get_model_dir(model_dirs, gen_mode, model_name_escaped, dedup_str, tool_call):\n",
    "    for model_dir in model_dirs:\n",
    "        if gen_mode == \"structured\" and \"unstructured\" in model_dir:\n",
    "            continue\n",
    "\n",
    "        if gen_mode in model_dir and model_name_escaped in model_dir and dedup_str in model_dir and tool_call in model_dir:\n",
    "            return model_dir"
   ]
  },
  {
   "cell_type": "code",
   "execution_count": 45,
   "metadata": {},
   "outputs": [],
   "source": [
    "def index_it(idx, questions, solutions, generations, scores, idx_type=\"error\"):\n",
    "\n",
    "    if idx_type == \"absolute\":\n",
    "        question = questions[idx]\n",
    "        solution = solutions[idx]\n",
    "        generation = generations[idx]\n",
    "        score = [score for i, score in enumerate(scores) if i > 0 and score[\"id\"] == idx]\n",
    "    elif idx_type == \"error\":\n",
    "        score = scores[idx+1]\n",
    "        abs_idx = score[\"id\"] - 1\n",
    "        question = questions[abs_idx]\n",
    "        solution = solutions[abs_idx]\n",
    "        generation = generations[abs_idx]\n",
    "    else:\n",
    "        raise ValueError(\"Wrong idx_type.\")\n",
    "\n",
    "    return question, solution, generation, score"
   ]
  },
  {
   "cell_type": "code",
   "execution_count": 5,
   "metadata": {},
   "outputs": [],
   "source": [
    "# Inputs\n",
    "bfcl_category = \"simple\"\n",
    "\n",
    "dedup = True\n",
    "gen_mode = \"structured\"\n",
    "tool_call = \"auto\"\n",
    "model_name = \"databricks/dbrx-instruct\"\n",
    "out_dir = \"./outputs\""
   ]
  },
  {
   "cell_type": "code",
   "execution_count": 15,
   "metadata": {},
   "outputs": [],
   "source": [
    "# Get paths\n",
    "test_file = f\"gorilla_openfunctions_v1_test_{bfcl_category}.json\"\n",
    "questions_path = os.path.join(\"./data\", test_file)\n",
    "solutions_path = os.path.join(\"./data/possible_answer\", test_file)\n",
    "\n",
    "\n",
    "model_name_escaped = model_name.replace(\"/\", \"_\")\n",
    "dedup_str = \"dedup\" if dedup else \"\"\n",
    "model_dirs = get_directories(out_dir)\n",
    "model_dir = get_model_dir(model_dirs, gen_mode, model_name_escaped, dedup_str, tool_call)\n",
    "generations_path = os.path.join(out_dir, model_dir, \"generations\", test_file)\n",
    "scores_path = os.path.join(out_dir, model_dir, \"scores\", bfcl_category + \"_score.json\")"
   ]
  },
  {
   "cell_type": "code",
   "execution_count": 17,
   "metadata": {},
   "outputs": [],
   "source": [
    "# Load all files\n",
    "questions = load_jsonl(questions_path)\n",
    "solutions = load_jsonl(solutions_path)\n",
    "generations = load_jsonl(generations_path)\n",
    "scores = load_jsonl(scores_path)"
   ]
  },
  {
   "cell_type": "code",
   "execution_count": 46,
   "metadata": {},
   "outputs": [
    {
     "ename": "SyntaxError",
     "evalue": "can't use starred expression here (2884515939.py, line 5)",
     "output_type": "error",
     "traceback": [
      "\u001b[0;36m  Cell \u001b[0;32mIn[46], line 5\u001b[0;36m\u001b[0m\n\u001b[0;31m    question, solution, generation, score = *values\u001b[0m\n\u001b[0m                                            ^\u001b[0m\n\u001b[0;31mSyntaxError\u001b[0m\u001b[0;31m:\u001b[0m can't use starred expression here\n"
     ]
    }
   ],
   "source": [
    "idx = 0\n",
    "idx_type = \"error\"\n",
    "\n",
    "values = index_it(idx, questions, solutions, generations, scores, idx_type=\"error\")\n",
    "question, solution, generation, score = *values"
   ]
  },
  {
   "cell_type": "code",
   "execution_count": 43,
   "metadata": {},
   "outputs": [
    {
     "data": {
      "text/plain": [
       "{'question': 'Find the area of a triangle with a base of 10 units and height of 5 units.',\n",
       " 'function': {'name': 'calculate_triangle_area',\n",
       "  'description': 'Calculate the area of a triangle given its base and height.',\n",
       "  'parameters': {'type': 'dict',\n",
       "   'properties': {'base': {'type': 'integer',\n",
       "     'description': 'The base of the triangle.'},\n",
       "    'height': {'type': 'integer',\n",
       "     'description': 'The height of the triangle.'},\n",
       "    'unit': {'type': 'string',\n",
       "     'description': \"The unit of measure (defaults to 'units' if not specified)\"}},\n",
       "   'required': ['base', 'height']}}}"
      ]
     },
     "execution_count": 43,
     "metadata": {},
     "output_type": "execute_result"
    }
   ],
   "source": [
    "question"
   ]
  },
  {
   "cell_type": "code",
   "execution_count": 42,
   "metadata": {},
   "outputs": [
    {
     "data": {
      "text/plain": [
       "{'id': 1,\n",
       " 'model_name': 'databricks/dbrx-instruct',\n",
       " 'test_category': 'simple',\n",
       " 'valid': False,\n",
       " 'error': ['Wrong number of functions.'],\n",
       " 'error_type': 'simple_function_checker:wrong_count',\n",
       " 'prompt': {'question': 'Find the area of a triangle with a base of 10 units and height of 5 units.',\n",
       "  'function': {'name': 'calculate_triangle_area',\n",
       "   'description': 'Calculate the area of a triangle given its base and height.',\n",
       "   'parameters': {'type': 'dict',\n",
       "    'properties': {'base': {'type': 'integer',\n",
       "      'description': 'The base of the triangle.'},\n",
       "     'height': {'type': 'integer',\n",
       "      'description': 'The height of the triangle.'},\n",
       "     'unit': {'type': 'string',\n",
       "      'description': \"The unit of measure (defaults to 'units' if not specified)\"}},\n",
       "    'required': ['base', 'height']}}},\n",
       " 'model_result_raw': \"[calculate_triangle_area(base=10, height=5), calculate_triangle_area(base=10, height=5, unit='units')]\",\n",
       " 'model_result_decoded': [{'calculate_triangle_area': {'base': 10,\n",
       "    'height': 5}},\n",
       "  {'calculate_triangle_area': {'base': 10, 'height': 5, 'unit': 'units'}}],\n",
       " 'possible_answer': {'calculate_triangle_area': {'base': [10],\n",
       "   'height': [5],\n",
       "   'unit': ['units', '']}}}"
      ]
     },
     "execution_count": 42,
     "metadata": {},
     "output_type": "execute_result"
    }
   ],
   "source": [
    "score"
   ]
  },
  {
   "cell_type": "code",
   "execution_count": null,
   "metadata": {},
   "outputs": [],
   "source": []
  }
 ],
 "metadata": {
  "kernelspec": {
   "display_name": "gorilla",
   "language": "python",
   "name": "python3"
  },
  "language_info": {
   "codemirror_mode": {
    "name": "ipython",
    "version": 3
   },
   "file_extension": ".py",
   "mimetype": "text/x-python",
   "name": "python",
   "nbconvert_exporter": "python",
   "pygments_lexer": "ipython3",
   "version": "3.10.14"
  }
 },
 "nbformat": 4,
 "nbformat_minor": 2
}
