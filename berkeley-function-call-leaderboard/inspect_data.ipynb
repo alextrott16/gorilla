{
 "cells": [
  {
   "cell_type": "code",
   "execution_count": 21,
   "metadata": {},
   "outputs": [],
   "source": [
    "import json\n",
    "import os\n",
    "from pprint import pp\n",
    "\n",
    "import pandas as pd"
   ]
  },
  {
   "cell_type": "code",
   "execution_count": 2,
   "metadata": {},
   "outputs": [],
   "source": [
    "def get_directories(path):\n",
    "    dirs = [dir for dir in os.listdir(path) if os.path.isdir(os.path.join(path, dir))]\n",
    "    return dirs"
   ]
  },
  {
   "cell_type": "code",
   "execution_count": 3,
   "metadata": {},
   "outputs": [],
   "source": [
    "def load_jsonl(path):\n",
    "    lines = []\n",
    "    with open(path, \"r\") as file:\n",
    "        for line in file:\n",
    "            lines.append(json.loads(line))\n",
    "    return lines"
   ]
  },
  {
   "cell_type": "code",
   "execution_count": 4,
   "metadata": {},
   "outputs": [],
   "source": [
    "def get_model_dir(model_dirs, gen_mode, model_name_escaped, dedup_str, tool_call):\n",
    "    for model_dir in model_dirs:\n",
    "        if gen_mode == \"structured\" and \"unstructured\" in model_dir:\n",
    "            continue\n",
    "\n",
    "        if gen_mode in model_dir and model_name_escaped in model_dir and dedup_str in model_dir and tool_call in model_dir:\n",
    "            return model_dir"
   ]
  },
  {
   "cell_type": "code",
   "execution_count": 5,
   "metadata": {},
   "outputs": [],
   "source": [
    "def index_it(idx, questions, solutions, generations, scores, idx_type=\"error\"):\n",
    "\n",
    "    if idx_type == \"absolute\":\n",
    "        question = questions[idx]\n",
    "        solution = solutions[idx]\n",
    "        generation = generations[idx]\n",
    "        score = [score for i, score in enumerate(scores) if i > 0 and score[\"id\"] == idx]\n",
    "    elif idx_type == \"error\":\n",
    "        score = scores[idx+1]\n",
    "        abs_idx = score[\"id\"] - 1\n",
    "        question = questions[abs_idx]\n",
    "        solution = solutions[abs_idx]\n",
    "        generation = generations[abs_idx]\n",
    "    else:\n",
    "        raise ValueError(\"Wrong idx_type.\")\n",
    "\n",
    "    return question, solution, generation, score"
   ]
  },
  {
   "cell_type": "code",
   "execution_count": 19,
   "metadata": {},
   "outputs": [],
   "source": [
    "def extract_result( question, solution, generation, score):\n",
    "    user_query = question[\"question\"]\n",
    "    tools = question[\"function\"]\n",
    "    if not isinstance(tools, list):\n",
    "        tools = [tools]\n",
    "\n",
    "    raw_result = generation[\"result\"]\n",
    "    messages = generation[\"messages\"]\n",
    "    tool_calls = generation[\"tool_calls\"]\n",
    "    n_tool_calls = generation[\"n_tool_calls\"]\n",
    "    valid = score[\"valid\"]\n",
    "    error = score[\"error\"]\n",
    "    error_type = score[\"error_type\"]\n",
    "    decoded_result = score[\"model_result_decoded\"]\n",
    "\n",
    "    result = {\n",
    "        \"user_query\": user_query,\n",
    "        \"tools\": tools,\n",
    "        \"valid\": valid,\n",
    "        \"tool_calls\": tool_calls,\n",
    "        \"error\": error,\n",
    "        \"error_type\": error_type,\n",
    "        \"raw_result\": raw_result,\n",
    "        \"decoded_result\": decoded_result,\n",
    "        \"messages\": messages,\n",
    "        \"n_tool_calls\": n_tool_calls\n",
    "    }\n",
    "\n",
    "    return result"
   ]
  },
  {
   "cell_type": "code",
   "execution_count": 6,
   "metadata": {},
   "outputs": [],
   "source": [
    "# Inputs\n",
    "bfcl_category = \"simple\"\n",
    "\n",
    "dedup = True\n",
    "gen_mode = \"structured\"\n",
    "tool_call = \"auto\"\n",
    "model_name = \"databricks/dbrx-instruct\"\n",
    "out_dir = \"./outputs\""
   ]
  },
  {
   "cell_type": "code",
   "execution_count": 7,
   "metadata": {},
   "outputs": [],
   "source": [
    "# Get paths\n",
    "test_file = f\"gorilla_openfunctions_v1_test_{bfcl_category}.json\"\n",
    "questions_path = os.path.join(\"./data\", test_file)\n",
    "solutions_path = os.path.join(\"./data/possible_answer\", test_file)\n",
    "\n",
    "\n",
    "model_name_escaped = model_name.replace(\"/\", \"_\")\n",
    "dedup_str = \"dedup\" if dedup else \"\"\n",
    "model_dirs = get_directories(out_dir)\n",
    "model_dir = get_model_dir(model_dirs, gen_mode, model_name_escaped, dedup_str, tool_call)\n",
    "generations_path = os.path.join(out_dir, model_dir, \"generations\", test_file)\n",
    "scores_path = os.path.join(out_dir, model_dir, \"scores\", bfcl_category + \"_score.json\")"
   ]
  },
  {
   "cell_type": "code",
   "execution_count": 8,
   "metadata": {},
   "outputs": [],
   "source": [
    "# Load all files\n",
    "questions = load_jsonl(questions_path)\n",
    "solutions = load_jsonl(solutions_path)\n",
    "generations = load_jsonl(generations_path)\n",
    "scores = load_jsonl(scores_path)"
   ]
  },
  {
   "cell_type": "code",
   "execution_count": 9,
   "metadata": {},
   "outputs": [],
   "source": [
    "idx = 0\n",
    "idx_type = \"error\"\n",
    "\n",
    "values = index_it(idx, questions, solutions, generations, scores, idx_type=\"error\")\n",
    "question, solution, generation, score = tuple(values)"
   ]
  },
  {
   "cell_type": "code",
   "execution_count": 26,
   "metadata": {},
   "outputs": [
    {
     "name": "stdout",
     "output_type": "stream",
     "text": [
      "{'user_query': 'Find the area of a triangle with a base of 10 units and height of 5 units.',\n",
      " 'tools': [{'name': 'calculate_triangle_area',\n",
      "            'description': 'Calculate the area of a triangle given its base and height.',\n",
      "            'parameters': {'type': 'dict',\n",
      "                           'properties': {'base': {'type': 'integer', 'description': 'The base of the triangle.'},\n",
      "                                          'height': {'type': 'integer', 'description': 'The height of the triangle.'},\n",
      "                                          'unit': {'type': 'string', 'description': \"The unit of measure (defaults to 'units' if not specified)\"}},\n",
      "                           'required': ['base', 'height']}}],\n",
      " 'valid': False,\n",
      " 'tool_calls': [{'tool_name': 'calculate_triangle_area', 'tool_arguments': {'base': 10, 'height': 5}},\n",
      "                {'tool_name': 'calculate_triangle_area', 'tool_arguments': {'base': 10, 'height': 5, 'unit': 'units'}}],\n",
      " 'error': ['Wrong number of functions.'],\n",
      " 'error_type': 'simple_function_checker:wrong_count',\n",
      " 'raw_result': \"[calculate_triangle_area(base=10, height=5), calculate_triangle_area(base=10, height=5, unit='units')]\",\n",
      " 'decoded_result': [{'calculate_triangle_area': {'base': 10, 'height': 5}}, {'calculate_triangle_area': {'base': 10, 'height': 5, 'unit': 'units'}}],\n",
      " 'messages': [{'role': 'system',\n",
      "               'content': \"You are a function calling AI model. Your job is to answer the user's questions and you may call one or more functions to do this.\\n\"\n",
      "                          '\\n'\n",
      "                          '\\n'\n",
      "                          '    Please use your own judgment as to whether or not you should call a function. In particular, you must follow these guiding principles:\\n'\n",
      "                          '    1. You may call one or more functions to assist with the user query. You should call multiple functions when the user asks you to.\\n'\n",
      "                          \"    2. You do not need to call a function. If none of the functions can be used to answer the user's question, please do not make the function call.\\n\"\n",
      "                          \"    3. Don't make assumptions about what values to plug into functions. If you are missing the parameters to make a function call, please ask the user \"\n",
      "                          'for the parameters.\\n'\n",
      "                          '    4. You may assume the user has implemented the function themselves.\\n'\n",
      "                          '    5. You may assume the user will call the function on their own. You should NOT ask the user to call the function and let you know the result; they '\n",
      "                          'will do this on their own.\\n'\n",
      "                          '    6. Never call a tool twice with the same exact arguments. Do not repeat your tool calls!\\n'\n",
      "                          '\\n'\n",
      "                          '\\n'\n",
      "                          '    You can only call functions according the following formatting rules:\\n'\n",
      "                          '    Rule 1: All the functions you have access to are contained within <tool></tools> XML tags. You cannot use any functions that are not listed between '\n",
      "                          'these tags.\\n'\n",
      "                          '\\n'\n",
      "                          '    Rule 2: For each function call return a json object (using quotes) with function name and arguments within <tool_call>\\n'\n",
      "                          '{ }\\n'\n",
      "                          '</tool_call> XML tags as follows:\\n'\n",
      "                          '    * With arguments:\\n'\n",
      "                          '    <tool_call>\\n'\n",
      "                          '{\"tool_name\": \"function_name\", \"tool_arguments\": {\"argument_1_name\": \"value\", \"argument_2_name\": \"value\"} }\\n'\n",
      "                          '</tool_call>\\n'\n",
      "                          '    * Without arguments:\\n'\n",
      "                          '    <tool_call>\\n'\n",
      "                          '{ \"tool_name\": \"function_name\", \"tool_arguments\": {} }\\n'\n",
      "                          '</tool_call>\\n'\n",
      "                          '    In between <tool_call> and</tool_call> tags, you MUST respond in a valid JSON schema.\\n'\n",
      "                          '    In between the <tool_call> and </tool_call> tags you MUST only write in json; no other text is allowed.\\n'\n",
      "                          '\\n'\n",
      "                          '    Rule 3: If user decides to run the function, they will output the result of the function call between the <tool_response> and </tool_response> '\n",
      "                          \"tags. If it answers the user's question, you should incorporate the output of the function in your answer.\\n\"\n",
      "                          '\\n'\n",
      "                          '\\n'\n",
      "                          '    Here are the tools available to you:\\n'\n",
      "                          '    <tool>\\n'\n",
      "                          '{\"title\": \"calculate_triangle_area\", \"type\": \"object\", \"description\": \"Calculate the area of a triangle given its base and height.\", \"properties\": '\n",
      "                          '{\"base\": {\"type\": \"integer\", \"description\": \"The base of the triangle.\"}, \"height\": {\"type\": \"integer\", \"description\": \"The height of the triangle.\"}, '\n",
      "                          '\"unit\": {\"type\": \"string\", \"description\": \"The unit of measure (defaults to \\'units\\' if not specified)\"}}, \"required\": [\"base\", \"height\"]}\\n'\n",
      "                          '</tools>\\n'\n",
      "                          '\\n'\n",
      "                          \"    Remember, don't make assumptions about what values to plug into functions. If you are missing the parameters to make a function call, please ask \"\n",
      "                          'the user for the parameters. Do not be afraid to ask.\\n'\n",
      "                          '    '},\n",
      "              {'role': 'user', 'content': 'Find the area of a triangle with a base of 10 units and height of 5 units.'},\n",
      "              {'role': 'assistant',\n",
      "               'content': '<tool_call>{\"tool_name\": \"calculate_triangle_area\", \"tool_arguments\": {\"base\": 10, \"height\": 5}}</tool_call>\\n'\n",
      "                          '<tool_call>{\"tool_name\": \"calculate_triangle_area\", \"tool_arguments\": {\"base\": 10, \"height\": 5, \"unit\": \"units\"}}</tool_call>\\n'\n",
      "                          '<tool_call>{\"tool_name\": \"calculate_triangle_area\", \"tool_arguments\": {\"base\": 10, \"height\": 5, \"unit\": \"units\"}}</tool_call>\\n'\n",
      "                          '<tool_call>{\"tool_name\": \"calculate_triangle_area\", \"tool_arguments\": {\"base\": 10, \"height\": 5, \"unit\": \"units\"}}</tool_call>\\n'\n",
      "                          '<tool_call>{\"tool_name\": \"calculate_triangle_area\", \"tool_arguments\": {\"base\": 10, \"height\": 5, \"unit\": \"units\"}}</tool_call>\\n'\n",
      "                          '</tool_call>'}],\n",
      " 'n_tool_calls': 'auto'}\n"
     ]
    }
   ],
   "source": [
    "result = extract_result(question, solution, generation, score)\n",
    "pp(result, width=180)"
   ]
  }
 ],
 "metadata": {
  "kernelspec": {
   "display_name": "gorilla",
   "language": "python",
   "name": "python3"
  },
  "language_info": {
   "codemirror_mode": {
    "name": "ipython",
    "version": 3
   },
   "file_extension": ".py",
   "mimetype": "text/x-python",
   "name": "python",
   "nbconvert_exporter": "python",
   "pygments_lexer": "ipython3",
   "version": "3.10.14"
  }
 },
 "nbformat": 4,
 "nbformat_minor": 2
}
